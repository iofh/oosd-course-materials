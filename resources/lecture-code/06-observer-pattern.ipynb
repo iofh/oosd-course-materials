{
 "cells": [
  {
   "cell_type": "code",
   "execution_count": null,
   "metadata": {},
   "outputs": [],
   "source": [
    "%config IPCompleter.greedy=True"
   ]
  },
  {
   "cell_type": "markdown",
   "metadata": {},
   "source": [
    "# Observer Pattern"
   ]
  },
  {
   "cell_type": "code",
   "execution_count": 3,
   "metadata": {},
   "outputs": [
    {
     "name": "stdout",
     "output_type": "stream",
     "text": [
      "NZX - Update: CEO of NZX has resigned effective immediately.\n"
     ]
    }
   ],
   "source": [
    "class Subject:\n",
    "    def __init__(self):\n",
    "        self.observers = []\n",
    "\n",
    "    def register(self, observer):\n",
    "        if not observer in self.observers:\n",
    "            self.observers.append(observer)\n",
    "\n",
    "    def unregister(self, observer):\n",
    "        if observer in self.observers:\n",
    "            self.observers.remove(observer)\n",
    "\n",
    "    def notify(self, event):\n",
    "        for o in self.observers:\n",
    "            o.update(event)\n",
    "\n",
    "\n",
    "class Observer:\n",
    "    def update(self, event):\n",
    "        pass\n",
    "\n",
    "\n",
    "class ASX(Observer):\n",
    "    def update(self, event):\n",
    "        print(f'ASX - {event}')\n",
    "\n",
    "\n",
    "class NZX(Observer):\n",
    "    def update(self, event):\n",
    "        print(f'NZX - {event}')\n",
    "\n",
    "\n",
    "def main():\n",
    "    subject = Subject()\n",
    "    nzx = NZX()\n",
    "    subject.register(nzx)\n",
    "    subject.notify('Update: CEO of NZX has resigned effective immediately.')\n",
    "\n",
    "\n",
    "if __name__ == '__main__':\n",
    "    main()"
   ]
  },
  {
   "cell_type": "markdown",
   "metadata": {},
   "source": [
    "# Observer Pattern ABC"
   ]
  },
  {
   "cell_type": "code",
   "execution_count": 1,
   "metadata": {},
   "outputs": [
    {
     "name": "stdout",
     "output_type": "stream",
     "text": [
      "NZX - Update: CEO of NZX has resigned effective immediately.\n"
     ]
    }
   ],
   "source": [
    "from abc import ABC, abstractmethod\n",
    "\n",
    "class Subject(ABC): \n",
    "    @abstractmethod\n",
    "    def register(self, observer):\n",
    "        pass\n",
    "    \n",
    "    @abstractmethod\n",
    "    def unregister(self, observer):\n",
    "        pass\n",
    "       \n",
    "    @abstractmethod    \n",
    "    def notify(self, event):\n",
    "        pass\n",
    "\n",
    "class ConcreteSubject(Subject):\n",
    "    def __init__(self):\n",
    "        self.observers = []\n",
    "    \n",
    "    def register(self, observer):\n",
    "        if not observer in self.observers:\n",
    "            self.observers.append(observer)\n",
    "    \n",
    "    def unregister(self, observer):\n",
    "        if observer in self.observers:\n",
    "            self.observers.remove(observer)\n",
    "            \n",
    "    def notify(self, event):\n",
    "        for o in self.observers:\n",
    "            o.update(event)\n",
    "        \n",
    "class Observer(ABC):\n",
    "    @abstractmethod\n",
    "    def update(self, event):\n",
    "        pass\n",
    "    \n",
    "class ASX(Observer):\n",
    "    def update(self, event):\n",
    "        print(f'ASX - {event}')\n",
    "    \n",
    "class NZX(Observer):\n",
    "    def update(self, event):\n",
    "        print(f'NZX - {event}')\n",
    "    \n",
    "def main():\n",
    "    concrete_subject = ConcreteSubject()\n",
    "    nzx = NZX()\n",
    "    concrete_subject.register(nzx)\n",
    "    concrete_subject.notify('Update: CEO of NZX has resigned effective immediately.')\n",
    "\n",
    "if __name__ == '__main__':\n",
    "    main()"
   ]
  },
  {
   "cell_type": "code",
   "execution_count": null,
   "metadata": {},
   "outputs": [],
   "source": []
  }
 ],
 "metadata": {
  "kernelspec": {
   "display_name": "Python 3",
   "language": "python",
   "name": "python3"
  },
  "language_info": {
   "codemirror_mode": {
    "name": "ipython",
    "version": 3
   },
   "file_extension": ".py",
   "mimetype": "text/x-python",
   "name": "python",
   "nbconvert_exporter": "python",
   "pygments_lexer": "ipython3",
   "version": "3.7.5"
  }
 },
 "nbformat": 4,
 "nbformat_minor": 2
}
