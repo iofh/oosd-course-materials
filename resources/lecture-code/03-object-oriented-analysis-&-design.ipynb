{
 "cells": [
  {
   "cell_type": "code",
   "execution_count": null,
   "metadata": {},
   "outputs": [],
   "source": [
    "%config IPCompleter.greedy=True"
   ]
  },
  {
   "cell_type": "markdown",
   "metadata": {},
   "source": [
    "# KISS"
   ]
  },
  {
   "cell_type": "code",
   "execution_count": 1,
   "metadata": {},
   "outputs": [
    {
     "name": "stdout",
     "output_type": "stream",
     "text": [
      "Saturday\n"
     ]
    }
   ],
   "source": [
    "def cyclomatic_complexity(day):\n",
    "    if day == 1:\n",
    "        return 'Monday'\n",
    "    elif day == 2:\n",
    "        return 'Tuesday'\n",
    "    elif day == 3:\n",
    "        return 'Wednesday'\n",
    "    elif day == 4:\n",
    "        return 'Thursday'\n",
    "    elif day == 5:\n",
    "        return 'Friday'\n",
    "    elif day == 6:\n",
    "        return 'Saturday'\n",
    "    elif day == 7:\n",
    "        return 'Sunday'\n",
    "    else:\n",
    "        raise ValueError('day must be between 1 and 7.')\n",
    "\n",
    "\n",
    "print(cyclomatic_complexity(6))"
   ]
  },
  {
   "cell_type": "code",
   "execution_count": 2,
   "metadata": {},
   "outputs": [
    {
     "name": "stdout",
     "output_type": "stream",
     "text": [
      "Saturday\n"
     ]
    }
   ],
   "source": [
    "def cyclomatic_complexity(day):\n",
    "    days = ['Monday', 'Tuesday', 'Wednesday',\n",
    "            'Thursday', 'Friday', 'Saturday', 'Sunday']\n",
    "    if day >= 1 and day <= 7:\n",
    "        return days[day - 1]\n",
    "    else:\n",
    "        raise ValueError('day must be between 1 and 7.')\n",
    "\n",
    "\n",
    "print(cyclomatic_complexity(6))"
   ]
  },
  {
   "cell_type": "markdown",
   "metadata": {},
   "source": [
    "# SOLID"
   ]
  },
  {
   "cell_type": "markdown",
   "metadata": {},
   "source": [
    "### Single Responsibility"
   ]
  },
  {
   "cell_type": "code",
   "execution_count": 3,
   "metadata": {},
   "outputs": [],
   "source": [
    "class Computer:\n",
    "    def fetch(self):\n",
    "        print('Fetching...')\n",
    "\n",
    "    def decode(self):\n",
    "        print('Decoding...')\n",
    "\n",
    "    def execute(self):\n",
    "        print('Executing...')\n",
    "\n",
    "    def read(self):\n",
    "        print('Reading...')\n",
    "\n",
    "    def write(self):\n",
    "        print('Writing...')"
   ]
  },
  {
   "cell_type": "code",
   "execution_count": 4,
   "metadata": {},
   "outputs": [],
   "source": [
    "class CPU:\n",
    "    def fetch(self):\n",
    "        print('Fetching...')\n",
    "\n",
    "    def decode(self):\n",
    "        print('Decoding...')\n",
    "\n",
    "    def execute(self):\n",
    "        print('Executing...')\n",
    "\n",
    "\n",
    "class RAM:\n",
    "    def read(self):\n",
    "        print('Reading...')\n",
    "\n",
    "    def write(self):\n",
    "        print('Writing...')"
   ]
  },
  {
   "cell_type": "code",
   "execution_count": 5,
   "metadata": {},
   "outputs": [
    {
     "name": "stdout",
     "output_type": "stream",
     "text": [
      "Fetching...\n",
      "Reading...\n",
      "Decoding...\n",
      "Writing...\n",
      "Executing...\n"
     ]
    }
   ],
   "source": [
    "class CPU:\n",
    "    def fetch(self):\n",
    "        print('Fetching...')\n",
    "\n",
    "    def decode(self):\n",
    "        print('Decoding...')\n",
    "\n",
    "    def execute(self):\n",
    "        print('Executing...')\n",
    "\n",
    "\n",
    "class RAM:\n",
    "    def read(self):\n",
    "        print('Reading...')\n",
    "\n",
    "    def write(self):\n",
    "        print('Writing...')\n",
    "\n",
    "\n",
    "class ComputerFacade:\n",
    "    def __init__(self):\n",
    "        self.cpu = CPU()\n",
    "        self.ram = RAM()\n",
    "\n",
    "    def boot(self):\n",
    "        self.cpu.fetch()\n",
    "        self.ram.read()\n",
    "        self.cpu.decode()\n",
    "        self.ram.write()\n",
    "        self.cpu.execute()\n",
    "\n",
    "\n",
    "def main():\n",
    "    computer_facade = ComputerFacade()\n",
    "    computer_facade.boot()\n",
    "\n",
    "\n",
    "if __name__ == '__main__':\n",
    "    main()"
   ]
  },
  {
   "cell_type": "markdown",
   "metadata": {},
   "source": [
    "### Open/Closed"
   ]
  },
  {
   "cell_type": "code",
   "execution_count": 6,
   "metadata": {},
   "outputs": [
    {
     "name": "stdout",
     "output_type": "stream",
     "text": [
      "Moo!\n",
      "Oink!\n"
     ]
    }
   ],
   "source": [
    "class Animal:\n",
    "    def __init__(self, name):\n",
    "        self.__name = name\n",
    "\n",
    "    @property\n",
    "    def name(self):\n",
    "        return self.__name\n",
    "\n",
    "\n",
    "def main():\n",
    "    animals = [\n",
    "        Animal('Cow'), \n",
    "        Animal('Pig')\n",
    "    ]\n",
    "\n",
    "    for a in animals:\n",
    "        if a.name == 'Cow':\n",
    "            print('Moo!')\n",
    "        elif a.name == 'Pig':\n",
    "            print('Oink!')\n",
    "\n",
    "\n",
    "if __name__ == '__main__':\n",
    "    main()"
   ]
  },
  {
   "cell_type": "code",
   "execution_count": 7,
   "metadata": {},
   "outputs": [
    {
     "name": "stdout",
     "output_type": "stream",
     "text": [
      "Moo!\n",
      "Oink!\n",
      "Baa!\n"
     ]
    }
   ],
   "source": [
    "class Animal:\n",
    "    def __init__(self, name):\n",
    "        self.__name = name\n",
    "\n",
    "    @property\n",
    "    def name(self):\n",
    "        return self.__name\n",
    "\n",
    "\n",
    "def main():\n",
    "    animals = [\n",
    "        Animal('Cow'), \n",
    "        Animal('Pig'),\n",
    "        Animal('Sheep')\n",
    "    ]\n",
    "\n",
    "    for a in animals:\n",
    "        if a.name == 'Cow':\n",
    "            print('Moo!')\n",
    "        elif a.name == 'Pig':\n",
    "            print('Oink!')\n",
    "        elif a.name == 'Sheep':\n",
    "            print('Baa!')\n",
    "\n",
    "\n",
    "if __name__ == '__main__':\n",
    "    main()"
   ]
  },
  {
   "cell_type": "code",
   "execution_count": 8,
   "metadata": {},
   "outputs": [
    {
     "name": "stdout",
     "output_type": "stream",
     "text": [
      "Moo!\n",
      "Oink!\n",
      "Baa!\n"
     ]
    }
   ],
   "source": [
    "from abc import ABC, abstractmethod\n",
    "\n",
    "\n",
    "class Animal(ABC):\n",
    "    def __init__(self, name):\n",
    "        self.__name = name\n",
    "\n",
    "    @property\n",
    "    def name(self):\n",
    "        return self.__name\n",
    "\n",
    "    @abstractmethod\n",
    "    def sound(self):\n",
    "        pass\n",
    "\n",
    "\n",
    "class Cow(Animal):\n",
    "    def sound(self):\n",
    "        print('Moo!')\n",
    "\n",
    "\n",
    "class Pig(Animal):\n",
    "    def sound(self):\n",
    "        print('Oink!')\n",
    "\n",
    "\n",
    "class Sheep(Animal):\n",
    "    def sound(self):\n",
    "        print('Baa!')\n",
    "\n",
    "\n",
    "def main():\n",
    "    animals = [\n",
    "        Cow('Cow'), \n",
    "        Pig('Pig'),\n",
    "        Sheep('Sheep')\n",
    "    ]\n",
    "    \n",
    "    for a in animals:\n",
    "        a.sound()\n",
    "\n",
    "\n",
    "if __name__ == '__main__':\n",
    "    main()"
   ]
  },
  {
   "cell_type": "markdown",
   "metadata": {},
   "source": [
    "### Interface Segregation"
   ]
  },
  {
   "cell_type": "code",
   "execution_count": 9,
   "metadata": {},
   "outputs": [],
   "source": [
    "from abc import ABC, abstractmethod\n",
    "\n",
    "class Shape(ABC):\n",
    "    @abstractmethod\n",
    "    def draw_circle(self):\n",
    "        pass\n",
    "    \n",
    "    @abstractmethod\n",
    "    def draw_square(self):\n",
    "        pass\n",
    "        \n",
    "class Circle(Shape):\n",
    "    def draw_circle(self):\n",
    "        pass\n",
    "    \n",
    "    def draw_square(self):\n",
    "        pass\n",
    "    \n",
    "class Square(Shape):\n",
    "    def draw_circle(self):\n",
    "        pass\n",
    "    \n",
    "    def draw_square(self):\n",
    "        pass"
   ]
  },
  {
   "cell_type": "code",
   "execution_count": 10,
   "metadata": {},
   "outputs": [],
   "source": [
    "from abc import ABC, abstractmethod\n",
    "\n",
    "class Shape(ABC):\n",
    "    @abstractmethod\n",
    "    def draw_circle(self):\n",
    "        pass\n",
    "    \n",
    "    @abstractmethod\n",
    "    def draw_square(self):\n",
    "        pass\n",
    "    \n",
    "    @abstractmethod\n",
    "    def draw_triangle(self):\n",
    "        pass\n",
    "        \n",
    "class Circle(Shape):\n",
    "    def draw_circle(self):\n",
    "        pass\n",
    "    \n",
    "    def draw_square(self):\n",
    "        pass\n",
    "    \n",
    "    def draw_triangle(self):\n",
    "        pass\n",
    "    \n",
    "class Square(Shape):\n",
    "    def draw_circle(self):\n",
    "        pass\n",
    "    \n",
    "    def draw_square(self):\n",
    "        pass\n",
    "    \n",
    "    def draw_triangle(self):\n",
    "        pass\n",
    "    \n",
    "class Triangle(Shape):\n",
    "    def draw_circle(self):\n",
    "        pass\n",
    "    \n",
    "    def draw_square(self):\n",
    "        pass\n",
    "    \n",
    "    def draw_triangle(self):\n",
    "        pass"
   ]
  },
  {
   "cell_type": "code",
   "execution_count": 11,
   "metadata": {},
   "outputs": [],
   "source": [
    "from abc import ABC, abstractmethod\n",
    "\n",
    "class Shape(ABC):\n",
    "    @abstractmethod\n",
    "    def draw(self):\n",
    "        pass\n",
    "        \n",
    "class Circle(Shape):\n",
    "    def draw(self):\n",
    "        pass\n",
    "    \n",
    "class Square(Shape):\n",
    "    def draw(self):\n",
    "        pass\n",
    "    \n",
    "class Triangle(Shape):\n",
    "    def draw(self):\n",
    "        pass"
   ]
  },
  {
   "cell_type": "markdown",
   "metadata": {},
   "source": [
    "### Dependency Inversion"
   ]
  },
  {
   "cell_type": "code",
   "execution_count": 16,
   "metadata": {},
   "outputs": [
    {
     "name": "stdout",
     "output_type": "stream",
     "text": [
      "15\n",
      "5\n"
     ]
    }
   ],
   "source": [
    "class Calculator:\n",
    "    def addition(self, num_1, num_2):\n",
    "        return num_1 + num_2\n",
    "    \n",
    "    def subtraction(self, num_1, num_2):\n",
    "        return num_1 - num_2\n",
    "    \n",
    "def main():\n",
    "    calc = Calculator()\n",
    "    print(calc.addition(10, 5))\n",
    "    print(calc.subtraction(10, 5))\n",
    "\n",
    "\n",
    "if __name__ == '__main__':\n",
    "    main()"
   ]
  },
  {
   "cell_type": "code",
   "execution_count": 8,
   "metadata": {},
   "outputs": [
    {
     "name": "stdout",
     "output_type": "stream",
     "text": [
      "15\n",
      "5\n"
     ]
    }
   ],
   "source": [
    "from abc import ABC, abstractmethod\n",
    "\n",
    "\n",
    "class CalculatorOperation(ABC):\n",
    "    @abstractmethod\n",
    "    def calculate(self, num_1, num_2):\n",
    "        pass\n",
    "\n",
    "\n",
    "class Calculator:\n",
    "    def __init__(self, calc_op):\n",
    "        self.calc_op = calc_op\n",
    "\n",
    "    def operation(self, num_1, num_2):\n",
    "        return self.calc_op.calculate(num_1, num_2)\n",
    "\n",
    "\n",
    "class Addition(CalculatorOperation):\n",
    "    def calculate(self, num_1, num_2):\n",
    "        return num_1 + num_2\n",
    "\n",
    "\n",
    "class Subtraction(CalculatorOperation):\n",
    "    def calculate(self, num_1, num_2):\n",
    "        return num_1 - num_2\n",
    "\n",
    "\n",
    "def main():\n",
    "    addition = Calculator(Addition())\n",
    "    subtraction = Calculator(Subtraction())\n",
    "    print(addition.operation(10, 5))\n",
    "    print(subtraction.operation(10, 5))\n",
    "\n",
    "\n",
    "if __name__ == '__main__':\n",
    "    main()"
   ]
  }
 ],
 "metadata": {
  "kernelspec": {
   "display_name": "Python 3",
   "language": "python",
   "name": "python3"
  },
  "language_info": {
   "codemirror_mode": {
    "name": "ipython",
    "version": 3
   },
   "file_extension": ".py",
   "mimetype": "text/x-python",
   "name": "python",
   "nbconvert_exporter": "python",
   "pygments_lexer": "ipython3",
   "version": "3.7.5"
  }
 },
 "nbformat": 4,
 "nbformat_minor": 2
}
