{
 "cells": [
  {
   "cell_type": "code",
   "execution_count": null,
   "metadata": {},
   "outputs": [],
   "source": [
    "%config IPCompleter.greedy=True"
   ]
  },
  {
   "cell_type": "markdown",
   "metadata": {},
   "source": [
    "# Singleton Pattern"
   ]
  },
  {
   "cell_type": "markdown",
   "metadata": {},
   "source": [
    "### Naïve"
   ]
  },
  {
   "cell_type": "code",
   "execution_count": 1,
   "metadata": {},
   "outputs": [
    {
     "name": "stdout",
     "output_type": "stream",
     "text": [
      "singleton_1 & singleton_2 contain the same instance\n"
     ]
    }
   ],
   "source": [
    "class SingletonMeta(type):\n",
    "    __instance = None\n",
    "\n",
    "    def __call__(self):\n",
    "        if not self.__instance:\n",
    "            self.__instance = super().__call__()\n",
    "        return self.__instance\n",
    "\n",
    "\n",
    "class Singleton(metaclass=SingletonMeta):\n",
    "    pass\n",
    "\n",
    "\n",
    "def main():\n",
    "    singleton_1 = Singleton()\n",
    "    singleton_2 = Singleton()\n",
    "\n",
    "    if id(singleton_1) == id(singleton_2):\n",
    "        print('singleton_1 & singleton_2 contain the same instance')\n",
    "    else:\n",
    "        print('singleton_1 & singleton_2 contain different instances')\n",
    "\n",
    "\n",
    "if __name__ == \"__main__\":\n",
    "    main() "
   ]
  },
  {
   "cell_type": "markdown",
   "metadata": {},
   "source": [
    "### Thread-Safe"
   ]
  },
  {
   "cell_type": "code",
   "execution_count": 2,
   "metadata": {},
   "outputs": [
    {
     "name": "stdout",
     "output_type": "stream",
     "text": [
      "One singleton instance\n",
      "One singleton instance\n"
     ]
    }
   ],
   "source": [
    "from threading import Lock, Thread\n",
    "\n",
    "\n",
    "class SingletonMeta(type):\n",
    "    __instance = None\n",
    "    __lock = Lock()\n",
    "\n",
    "    def __call__(cls, *args, **kwargs):\n",
    "        with cls.__lock:\n",
    "            if not cls.__instance:\n",
    "                cls.__instance = super().__call__(*args, **kwargs)\n",
    "        return cls.__instance\n",
    "\n",
    "\n",
    "class Singleton(metaclass=SingletonMeta):\n",
    "    def __init__(self, val):\n",
    "        self.val = val\n",
    "\n",
    "\n",
    "def test_singleton(val):\n",
    "    singleton = Singleton(val)\n",
    "    print(singleton.val)\n",
    "\n",
    "def main():\n",
    "    process_1 = Thread(target=test_singleton, args=('One singleton instance',))\n",
    "    process_2 = Thread(target=test_singleton, args=('Two singleton instances',))\n",
    "    process_1.start()\n",
    "    process_2.start()\n",
    "    \n",
    "if __name__ == '__main__':\n",
    "    main()"
   ]
  },
  {
   "cell_type": "code",
   "execution_count": 3,
   "metadata": {},
   "outputs": [
    {
     "name": "stdout",
     "output_type": "stream",
     "text": [
      "One singleton instance\n",
      "Two singleton instances\n"
     ]
    }
   ],
   "source": [
    "from threading import Lock, Thread\n",
    "\n",
    "\n",
    "class SingletonMeta(type):\n",
    "    __instance = None\n",
    "    __lock = Lock()\n",
    "\n",
    "    def __call__(cls, *args, **kwargs):\n",
    "        with cls.__lock:\n",
    "            if not cls.__instance:\n",
    "                cls.__instance = super().__call__(*args, **kwargs)\n",
    "        return cls.__instance\n",
    "\n",
    "\n",
    "class Singleton:\n",
    "    def __init__(self, val):\n",
    "        self.val = val\n",
    "\n",
    "\n",
    "def test_singleton(val):\n",
    "    singleton = Singleton(val)\n",
    "    print(singleton.val)\n",
    "\n",
    "def main():\n",
    "    process_1 = Thread(target=test_singleton, args=('One singleton instance',))\n",
    "    process_2 = Thread(target=test_singleton, args=('Two singleton instances',))\n",
    "    process_1.start()\n",
    "    process_2.start()\n",
    "    \n",
    "if __name__ == '__main__':\n",
    "    main()"
   ]
  }
 ],
 "metadata": {
  "kernelspec": {
   "display_name": "Python 3",
   "language": "python",
   "name": "python3"
  },
  "language_info": {
   "codemirror_mode": {
    "name": "ipython",
    "version": 3
   },
   "file_extension": ".py",
   "mimetype": "text/x-python",
   "name": "python",
   "nbconvert_exporter": "python",
   "pygments_lexer": "ipython3",
   "version": "3.7.5"
  }
 },
 "nbformat": 4,
 "nbformat_minor": 2
}
