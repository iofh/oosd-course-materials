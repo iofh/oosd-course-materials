{
 "cells": [
  {
   "cell_type": "code",
   "execution_count": null,
   "metadata": {},
   "outputs": [],
   "source": [
    "%config IPCompleter.greedy=True"
   ]
  },
  {
   "cell_type": "markdown",
   "metadata": {},
   "source": [
    "# Flyweight Pattern"
   ]
  },
  {
   "cell_type": "code",
   "execution_count": 33,
   "metadata": {},
   "outputs": [
    {
     "name": "stdout",
     "output_type": "stream",
     "text": [
      "List of flyweights - ['Ferrari SF90 Stradale', 'McLaren Speedtail', 'SSC Tuatara']\n",
      "Reusing existing flyweight\n",
      "Shared state - [\"Ferrari\", \"SF90 Stradale\"]\n",
      "Extrinsic state - [\"CL234IR\", \"John Doe\"]\n",
      "Creating new flyweight\n",
      "Shared state - [\"McLaren\", \"Senna\"]\n",
      "Extrinsic state - [\"CL234IR\", \"John Doe\"]\n",
      "List of flyweights - ['Ferrari SF90 Stradale', 'McLaren Speedtail', 'SSC Tuatara', 'McLaren Senna']\n"
     ]
    }
   ],
   "source": [
    "from json import dumps\n",
    "\n",
    "\n",
    "class Flyweight:\n",
    "    def __init__(self, shared_state):\n",
    "        self.__shared_state = shared_state\n",
    "\n",
    "    def operation(self, extrinsic_state):\n",
    "        shared = dumps(self.__shared_state)\n",
    "        extrinsic = dumps(extrinsic_state)\n",
    "        print(f'Shared state - {shared}')\n",
    "        print(f'Extrinsic state - {extrinsic}')\n",
    "\n",
    "\n",
    "class FlyweightFactory:\n",
    "    def __init__(self, flyweights):\n",
    "        self.__flyweights = {}\n",
    "\n",
    "        for f in flyweights:\n",
    "            self.__flyweights[self.get_key(f)] = Flyweight(f)\n",
    "\n",
    "    def get_key(self, state):\n",
    "        return ' '.join(state)\n",
    "\n",
    "    def get_flyweight(self, shared_state):\n",
    "        key = self.get_key(shared_state)\n",
    "        if not self.__flyweights.get(key):\n",
    "            print('Creating new flyweight')\n",
    "            self.__flyweights[key] = Flyweight(shared_state)\n",
    "        else:\n",
    "            print('Reusing existing flyweight')\n",
    "        return self.__flyweights[key]\n",
    "\n",
    "    def display_flyweights(self):\n",
    "        flightweight_keys = self.__flyweights.keys()\n",
    "        flyweights = [f for f in flightweight_keys]\n",
    "        print(f'List of flyweights - {flyweights}')\n",
    "\n",
    "def main():\n",
    "    cars = [\n",
    "        ['Ferrari', 'SF90 Stradale'],\n",
    "        ['McLaren', 'Speedtail'],\n",
    "        ['SSC', 'Tuatara']\n",
    "    ]\n",
    "    flyweight_factory = FlyweightFactory(cars)\n",
    "    flyweight_factory.display_flyweights()\n",
    "    flyweight = flyweight_factory.get_flyweight(['Ferrari', 'SF90 Stradale'])\n",
    "    flyweight.operation(['CL234IR', 'John Doe'])\n",
    "    flyweight = flyweight_factory.get_flyweight(['McLaren', 'Senna'])\n",
    "    flyweight.operation(['CL234IR', 'John Doe'])\n",
    "    flyweight_factory.display_flyweights()\n",
    "\n",
    "\n",
    "if __name__ == '__main__':\n",
    "    main()"
   ]
  },
  {
   "cell_type": "code",
   "execution_count": null,
   "metadata": {},
   "outputs": [],
   "source": []
  }
 ],
 "metadata": {
  "kernelspec": {
   "display_name": "Python 3",
   "language": "python",
   "name": "python3"
  },
  "language_info": {
   "codemirror_mode": {
    "name": "ipython",
    "version": 3
   },
   "file_extension": ".py",
   "mimetype": "text/x-python",
   "name": "python",
   "nbconvert_exporter": "python",
   "pygments_lexer": "ipython3",
   "version": "3.7.5"
  }
 },
 "nbformat": 4,
 "nbformat_minor": 2
}
