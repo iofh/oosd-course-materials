{
 "cells": [
  {
   "cell_type": "code",
   "execution_count": null,
   "metadata": {},
   "outputs": [],
   "source": [
    "%config IPCompleter.greedy=True"
   ]
  },
  {
   "cell_type": "markdown",
   "metadata": {},
   "source": [
    "# Adapter Pattern"
   ]
  },
  {
   "cell_type": "code",
   "execution_count": 2,
   "metadata": {},
   "outputs": [
    {
     "name": "stdout",
     "output_type": "stream",
     "text": [
      "Your hair is ready to be straighten\n"
     ]
    }
   ],
   "source": [
    "from abc import ABC, abstractmethod\n",
    "\n",
    "\n",
    "class EuropeanSocket(ABC):\n",
    "    @abstractmethod\n",
    "    def voltage(self):\n",
    "        pass\n",
    "\n",
    "    @abstractmethod\n",
    "    def live(self):\n",
    "        pass\n",
    "\n",
    "    @abstractmethod\n",
    "    def neutral(self):\n",
    "        pass\n",
    "\n",
    "    @abstractmethod\n",
    "    def earth(self):\n",
    "        pass\n",
    "\n",
    "\n",
    "class USSocket(ABC):\n",
    "    @abstractmethod\n",
    "    def voltage(self):\n",
    "        pass\n",
    "\n",
    "    @abstractmethod\n",
    "    def live(self):\n",
    "        pass\n",
    "\n",
    "    @abstractmethod\n",
    "    def neutral(self):\n",
    "        pass\n",
    "\n",
    "\n",
    "class AdapteeSocket(EuropeanSocket):\n",
    "    def voltage(self):\n",
    "        return 220\n",
    "\n",
    "    def live(self):\n",
    "        return 1\n",
    "\n",
    "    def neutral(self):\n",
    "        return -1\n",
    "\n",
    "    def earth(self):\n",
    "        return 0\n",
    "\n",
    "\n",
    "class Adapter(USSocket):\n",
    "    def __init__(self, socket):\n",
    "        self.socket = socket\n",
    "\n",
    "    def voltage(self):\n",
    "        return 110\n",
    "\n",
    "    def live(self):\n",
    "        return self.socket.live()\n",
    "\n",
    "    def neutral(self):\n",
    "        return self.socket.neutral()\n",
    "\n",
    "\n",
    "class FlatIron:\n",
    "    def __init__(self, adapter):\n",
    "        self.adapter = adapter\n",
    "\n",
    "    def heating(self):\n",
    "        if self.adapter.voltage() > 110:\n",
    "            print('Your flat iron is overheating')\n",
    "        elif self.adapter.live() == 1 and self.adapter.neutral() == -1:\n",
    "            print('Your hair is ready to be straighten')\n",
    "        else:\n",
    "            print('The power is off')\n",
    "\n",
    "\n",
    "def main():\n",
    "    adaptee_socket = AdapteeSocket()\n",
    "    adapter = Adapter(adaptee_socket)\n",
    "    flat_iron = FlatIron(adapter)\n",
    "    flat_iron.heating()\n",
    "\n",
    "\n",
    "if __name__ == '__main__':\n",
    "    main()"
   ]
  },
  {
   "cell_type": "code",
   "execution_count": null,
   "metadata": {},
   "outputs": [],
   "source": []
  }
 ],
 "metadata": {
  "kernelspec": {
   "display_name": "Python 3",
   "language": "python",
   "name": "python3"
  },
  "language_info": {
   "codemirror_mode": {
    "name": "ipython",
    "version": 3
   },
   "file_extension": ".py",
   "mimetype": "text/x-python",
   "name": "python",
   "nbconvert_exporter": "python",
   "pygments_lexer": "ipython3",
   "version": "3.7.5"
  }
 },
 "nbformat": 4,
 "nbformat_minor": 2
}
