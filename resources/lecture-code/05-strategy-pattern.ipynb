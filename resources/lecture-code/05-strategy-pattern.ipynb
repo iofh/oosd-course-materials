{
 "cells": [
  {
   "cell_type": "code",
   "execution_count": 1,
   "metadata": {},
   "outputs": [],
   "source": [
    "%config IPCompleter.greedy=True"
   ]
  },
  {
   "cell_type": "markdown",
   "metadata": {},
   "source": [
    "# Strategy Pattern"
   ]
  },
  {
   "cell_type": "code",
   "execution_count": 3,
   "metadata": {},
   "outputs": [
    {
     "name": "stdout",
     "output_type": "stream",
     "text": [
      "edcba\n",
      "edcba\n"
     ]
    }
   ],
   "source": [
    "from abc import ABC, abstractmethod\n",
    "\n",
    "\n",
    "class Context:\n",
    "    def __init__(self, strategy):\n",
    "        self.__strategy = strategy\n",
    "\n",
    "    @property\n",
    "    def strategy(self):\n",
    "        return self.__strategy\n",
    "\n",
    "    @strategy.setter\n",
    "    def strategy(self, strategy):\n",
    "        self.__strategy = strategy\n",
    "\n",
    "    def context_interface(self):\n",
    "        return self.__strategy.reverse('abcde')\n",
    "\n",
    "\n",
    "class Strategy(ABC):\n",
    "    @abstractmethod\n",
    "    def reverse(self, string):\n",
    "        pass\n",
    "\n",
    "\n",
    "class ForLoopStrategy(Strategy):\n",
    "    def reverse(self, string):\n",
    "        reverse_string = ''\n",
    "        for s in string:\n",
    "            reverse_string = s + reverse_string\n",
    "        return reverse_string\n",
    "\n",
    "\n",
    "class SliceStrategy(Strategy):\n",
    "    def reverse(self, string):\n",
    "        return string[::-1]\n",
    "\n",
    "\n",
    "def main():\n",
    "    context = Context(ForLoopStrategy())\n",
    "    print(context.context_interface())\n",
    "    context.strategy = SliceStrategy()\n",
    "    print(context.context_interface())\n",
    "\n",
    "\n",
    "if __name__ == \"__main__\":\n",
    "    main()"
   ]
  },
  {
   "cell_type": "code",
   "execution_count": 3,
   "metadata": {},
   "outputs": [
    {
     "name": "stdout",
     "output_type": "stream",
     "text": [
      "edcba\n",
      "jihgf\n"
     ]
    }
   ],
   "source": [
    "from abc import ABC, abstractmethod\n",
    "\n",
    "\n",
    "class Context:\n",
    "    def __init__(self, strategy, string):\n",
    "        self.__strategy = strategy\n",
    "        self.__string = string\n",
    "\n",
    "    @property\n",
    "    def strategy(self):\n",
    "        return self.__strategy\n",
    "\n",
    "    @strategy.setter\n",
    "    def strategy(self, strategy):\n",
    "        self.__strategy = strategy\n",
    "        \n",
    "    @property\n",
    "    def string(self):\n",
    "        return self.__string\n",
    "\n",
    "    @string.setter\n",
    "    def string(self, string):\n",
    "        self.__string = string\n",
    "\n",
    "    def context_interface(self):\n",
    "        return self.__strategy.reverse(self.__string)\n",
    "\n",
    "\n",
    "class Strategy(ABC):\n",
    "    @abstractmethod\n",
    "    def reverse(self, string):\n",
    "        pass\n",
    "\n",
    "\n",
    "class ForLoopStrategy(Strategy):\n",
    "    def reverse(self, string):\n",
    "        reverse_string = ''\n",
    "        for s in string:\n",
    "            reverse_string = s + reverse_string\n",
    "        return reverse_string\n",
    "\n",
    "\n",
    "class SliceStrategy(Strategy):\n",
    "    def reverse(self, string):\n",
    "        return string[::-1]\n",
    "\n",
    "\n",
    "def main():\n",
    "    context = Context(ForLoopStrategy(), 'abcde')\n",
    "    print(context.context_interface())\n",
    "    context.strategy = SliceStrategy()\n",
    "    context.string = 'fghij'\n",
    "    print(context.context_interface())\n",
    "\n",
    "\n",
    "if __name__ == \"__main__\":\n",
    "    main()"
   ]
  }
 ],
 "metadata": {
  "kernelspec": {
   "display_name": "Python 3",
   "language": "python",
   "name": "python3"
  },
  "language_info": {
   "codemirror_mode": {
    "name": "ipython",
    "version": 3
   },
   "file_extension": ".py",
   "mimetype": "text/x-python",
   "name": "python",
   "nbconvert_exporter": "python",
   "pygments_lexer": "ipython3",
   "version": "3.7.5"
  }
 },
 "nbformat": 4,
 "nbformat_minor": 2
}
