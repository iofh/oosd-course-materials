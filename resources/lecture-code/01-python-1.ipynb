{
 "cells": [
  {
   "cell_type": "code",
   "execution_count": null,
   "metadata": {},
   "outputs": [],
   "source": [
    "%config IPCompleter.greedy=True"
   ]
  },
  {
   "cell_type": "markdown",
   "metadata": {},
   "source": [
    "## Object-Oriented Programming Principles"
   ]
  },
  {
   "cell_type": "markdown",
   "metadata": {},
   "source": [
    "### Encapsulation"
   ]
  },
  {
   "cell_type": "code",
   "execution_count": null,
   "metadata": {},
   "outputs": [],
   "source": [
    "class Cat:\n",
    "    def __init__(self, name, breed):\n",
    "        self.name = name\n",
    "        self.breed = breed\n",
    "\n",
    "\n",
    "def main():\n",
    "    persian = Cat('Tom', 'persian')\n",
    "    persian.name = 'Jerry'\n",
    "    print(f'My {persian.breed}\\'s name is {persian.name}')\n",
    "\n",
    "\n",
    "if __name__ == '__main__':\n",
    "    main()"
   ]
  },
  {
   "cell_type": "code",
   "execution_count": 4,
   "metadata": {},
   "outputs": [
    {
     "name": "stdout",
     "output_type": "stream",
     "text": [
      "My persian's name is Tom\n"
     ]
    }
   ],
   "source": [
    "class Cat:\n",
    "    def __init__(self, name, breed):\n",
    "        self.__name = name\n",
    "        self.__breed = breed\n",
    "\n",
    "    def get_name(self):\n",
    "        return self.__name\n",
    "\n",
    "    def get_breed(self):\n",
    "        return self.__breed\n",
    "\n",
    "    def set_name(self, name):\n",
    "        self.__name = name\n",
    "\n",
    "    def set_breed(self, breed):\n",
    "        self.__breed = breed\n",
    "\n",
    "\n",
    "def main():\n",
    "    persian = Cat('Tom', 'persian')\n",
    "    persian.set_name('Jerry')\n",
    "    print(f'My {persian.get_breed()}\\'s name is {persian.get_name()}')\n",
    "\n",
    "\n",
    "if __name__ == '__main__':\n",
    "    main()"
   ]
  },
  {
   "cell_type": "code",
   "execution_count": null,
   "metadata": {},
   "outputs": [],
   "source": [
    "class Cat:\n",
    "    def __init__(self, name, breed):\n",
    "        self.__name = name\n",
    "        self.__breed = breed\n",
    "\n",
    "    @property\n",
    "    def name(self):\n",
    "        return self.__name\n",
    "\n",
    "    @property\n",
    "    def breed(self):\n",
    "        return self.__breed\n",
    "\n",
    "    @name.setter\n",
    "    def name(self, name):\n",
    "        self.__name = name\n",
    "\n",
    "    @name.deleter\n",
    "    def name(self):\n",
    "        print('Deleting name')\n",
    "        del self.__name\n",
    "\n",
    "\n",
    "def main():\n",
    "    persian = Cat('Tom', 'persian')\n",
    "    persian.name = 'Jerry'\n",
    "    print(f'My {persian.breed}\\'s name is {persian.name}')\n",
    "    del persian.name\n",
    "\n",
    "\n",
    "if __name__ == '__main__':\n",
    "    main()"
   ]
  },
  {
   "cell_type": "markdown",
   "metadata": {},
   "source": [
    "### Abstraction"
   ]
  },
  {
   "cell_type": "code",
   "execution_count": null,
   "metadata": {},
   "outputs": [],
   "source": [
    "from abc import ABC, abstractmethod\n",
    "\n",
    "\n",
    "class Payment(ABC):\n",
    "    def __init__(self, amount):\n",
    "        self.amount = amount\n",
    "\n",
    "    @abstractmethod\n",
    "    def payment(self):\n",
    "        pass\n",
    "\n",
    "\n",
    "class CreditCard(Payment):\n",
    "    def __init__(self, amount):\n",
    "        super().__init__(amount)\n",
    "\n",
    "    def payment(self):\n",
    "        return f'${self.amount} paid with credit card'\n",
    "\n",
    "\n",
    "class Cash(Payment):\n",
    "    def __init__(self, amount):\n",
    "        super().__init__(amount)\n",
    "\n",
    "    def payment(self):\n",
    "        return f'${self.amount} paid with cash'\n",
    "\n",
    "\n",
    "def main():\n",
    "    credit_card = CreditCard(150)\n",
    "    print(credit_card.payment())\n",
    "    cash = Cash(75)\n",
    "    print(cash.payment())\n",
    "\n",
    "\n",
    "if __name__ == '__main__':\n",
    "    main()"
   ]
  },
  {
   "cell_type": "markdown",
   "metadata": {},
   "source": [
    "### Single Inheritance"
   ]
  },
  {
   "cell_type": "code",
   "execution_count": null,
   "metadata": {},
   "outputs": [],
   "source": [
    "class Employee:\n",
    "    def __init__(self, first_name, last_name, salary):\n",
    "        self.first_name = first_name\n",
    "        self.last_name = last_name\n",
    "        self.salary = salary\n",
    "\n",
    "\n",
    "class SoftwareDeveloper(Employee):\n",
    "    def __init__(self, first_name, last_name, salary, prog_lang):\n",
    "        super().__init__(first_name, last_name, salary)\n",
    "        self.prog_lang = prog_lang\n",
    "\n",
    "\n",
    "class ProductOwner(Employee):\n",
    "    def __init__(self, first_name, last_name, salary, employees=None):\n",
    "        super().__init__(first_name, last_name, salary)\n",
    "        if employees is None:\n",
    "            self.employees = []\n",
    "        else:\n",
    "            self.employees = employees\n",
    "\n",
    "\n",
    "def main():\n",
    "    sft_dev_1 = SoftwareDeveloper('Alfredo', 'Boyle', 50000, 'C#')\n",
    "    sft_dev_2 = SoftwareDeveloper('Malik', 'Martin', 55000, 'JavaScript')\n",
    "    prdt_owr = ProductOwner('Lillian', 'Cunningham',\n",
    "                            100000, [sft_dev_1, sft_dev_2])\n",
    "    for e in prdt_owr.employees:\n",
    "        print(f'{e.first_name} {e.last_name}')\n",
    "\n",
    "\n",
    "if __name__ == '__main__':\n",
    "    main()"
   ]
  },
  {
   "cell_type": "markdown",
   "metadata": {},
   "source": [
    "### Multiple Inheritance"
   ]
  },
  {
   "cell_type": "code",
   "execution_count": null,
   "metadata": {},
   "outputs": [],
   "source": [
    "class LexicalAnalysis:\n",
    "    def __init__(self, char_sequence):\n",
    "        self.token_sequence = char_sequence.split()\n",
    "\n",
    "\n",
    "class WordCount(LexicalAnalysis):\n",
    "    def __init__(self, char_sequence):\n",
    "        super().__init__(char_sequence)\n",
    "        self.word_count = len(self.token_sequence)\n",
    "\n",
    "\n",
    "class UniqueWords(LexicalAnalysis):\n",
    "    def __init__(self, char_sequence):\n",
    "        super().__init__(char_sequence)\n",
    "        self.unique_words = set(self.token_sequence)\n",
    "\n",
    "\n",
    "class SyntaxAnalysis(WordCount, UniqueWords):\n",
    "    def __init__(self, char_sequence):\n",
    "        super().__init__(char_sequence)\n",
    "\n",
    "\n",
    "def main():\n",
    "    syntax_analysis = SyntaxAnalysis(\n",
    "        'Peter Piper picked a peck of pickled peppers; A peck of pickled peppers Peter Piper picked')\n",
    "    print(syntax_analysis.word_count)\n",
    "    print(syntax_analysis.unique_words)\n",
    "\n",
    "\n",
    "if __name__ == '__main__':\n",
    "    main()"
   ]
  },
  {
   "cell_type": "markdown",
   "metadata": {},
   "source": [
    "### Multi-Level Inheritance"
   ]
  },
  {
   "cell_type": "code",
   "execution_count": null,
   "metadata": {},
   "outputs": [],
   "source": [
    "class Rectangle:\n",
    "    def __init__(self, length, width):\n",
    "        self.length = length\n",
    "        self.width = width\n",
    "\n",
    "    def area(self):\n",
    "        return self.length * self.width\n",
    "\n",
    "    def perimeter(self):\n",
    "        return 2 * (self.length + self.width)\n",
    "\n",
    "\n",
    "class Square(Rectangle):\n",
    "    def __init__(self, length):\n",
    "        super().__init__(length, length)\n",
    "\n",
    "\n",
    "class Cube(Square):\n",
    "    def __init__(self, length):\n",
    "        super().__init__(length)\n",
    "\n",
    "    def surface_area(self):\n",
    "        return super().area() * 6\n",
    "\n",
    "    def volume(self):\n",
    "        return super().area() * self.length\n",
    "\n",
    "\n",
    "def main():\n",
    "    cube = Cube(4.5)\n",
    "    print(cube.surface_area())\n",
    "\n",
    "\n",
    "if __name__ == '__main__':\n",
    "    main()"
   ]
  },
  {
   "cell_type": "markdown",
   "metadata": {},
   "source": [
    "### Polymorphism"
   ]
  },
  {
   "cell_type": "code",
   "execution_count": null,
   "metadata": {},
   "outputs": [],
   "source": [
    "class Country:\n",
    "    def capital(self):\n",
    "        raise NotImplementedError('capital was not implemented.')\n",
    "\n",
    "\n",
    "class NewZealand(Country):\n",
    "    def capital(self):\n",
    "        return 'Wellington is the capital of New Zealand.'\n",
    "\n",
    "\n",
    "class Brazil(Country):\n",
    "    def capital(self):\n",
    "        return 'Brasilia is the capital of Brazil.'\n",
    "\n",
    "\n",
    "class Canada(Country):\n",
    "    pass\n",
    "\n",
    "\n",
    "def main():\n",
    "    nzl = NewZealand()\n",
    "    bra = Brazil()\n",
    "    can = Canada()\n",
    "    for country in (nzl, bra, can):\n",
    "        print(country.capital())\n",
    "\n",
    "\n",
    "if __name__ == '__main__':\n",
    "    main()"
   ]
  },
  {
   "cell_type": "code",
   "execution_count": null,
   "metadata": {},
   "outputs": [],
   "source": [
    "class NewZealand:\n",
    "    def capital(self):\n",
    "        return 'Wellington is the capital of New Zealand.'\n",
    "\n",
    "class Brazil:\n",
    "    def capital(self):\n",
    "        return 'Brasilia is the capital of Brazil.'\n",
    "    \n",
    "class Canada:\n",
    "    pass\n",
    "\n",
    "def main():\n",
    "    nzl = NewZealand()\n",
    "    bra = Brazil()\n",
    "    can = Canada()\n",
    "    for country in (nzl, bra, can):\n",
    "        print(country.capital())\n",
    "    \n",
    "if __name__ == '__main__':\n",
    "    main()"
   ]
  },
  {
   "cell_type": "markdown",
   "metadata": {},
   "source": [
    "## Basic Data Structures"
   ]
  },
  {
   "cell_type": "markdown",
   "metadata": {},
   "source": [
    "### List"
   ]
  },
  {
   "cell_type": "code",
   "execution_count": null,
   "metadata": {},
   "outputs": [],
   "source": [
    "numbers = [1, 2, 3, 4, 5]  # Homogeneous\n",
    "hetero = [1, 'C#', True, 2, 'Java']  # Heterogeneous\n",
    "print(type(numbers))"
   ]
  },
  {
   "cell_type": "markdown",
   "metadata": {},
   "source": [
    "### Tuple"
   ]
  },
  {
   "cell_type": "code",
   "execution_count": null,
   "metadata": {},
   "outputs": [],
   "source": [
    "numbers = (1, 2, 3, 4, 5)  # Homogeneous\n",
    "hetero = (1, 'C#', True, 2, 'Java')  # Heterogeneous\n",
    "print(type(numbers))"
   ]
  },
  {
   "cell_type": "markdown",
   "metadata": {},
   "source": [
    "### Set"
   ]
  },
  {
   "cell_type": "code",
   "execution_count": null,
   "metadata": {},
   "outputs": [],
   "source": [
    "numbers = {1, 2, 3, 4, 4}  # Homogeneous\n",
    "hetero = {1, 'C#', True, 2, 2}  # Heterogeneous\n",
    "print(type(numbers))\n",
    "print(numbers)\n",
    "print(hetero)"
   ]
  },
  {
   "cell_type": "markdown",
   "metadata": {},
   "source": [
    "### Dictionary"
   ]
  },
  {
   "cell_type": "code",
   "execution_count": null,
   "metadata": {},
   "outputs": [],
   "source": [
    "ig_user_1 = {'username': 'john_doe', 'active': False, 'followers': 150}\n",
    "ig_user_2 = {'username': 'jane_doe', 'active': True, 'followers': 500}\n",
    "print(type(ig_user_1))\n",
    "print(ig_user_1['username'])\n",
    "print(ig_user_2['followers'])"
   ]
  },
  {
   "cell_type": "markdown",
   "metadata": {},
   "source": [
    "### Slicing"
   ]
  },
  {
   "cell_type": "code",
   "execution_count": 11,
   "metadata": {},
   "outputs": [
    {
     "name": "stdout",
     "output_type": "stream",
     "text": [
      "[3, 4, 5, 6, 7, 8, 9, 10]\n",
      "[3, 4, 5, 6]\n",
      "[3, 5, 7, 9]\n"
     ]
    }
   ],
   "source": [
    "numbers = [1, 2, 3, 4, 5, 6, 7, 8, 9, 10]\n",
    "start_slice_numbers = numbers[2:]\n",
    "end_slice_numbers = numbers[2:6]\n",
    "step_slice_numbers = numbers[2::2]\n",
    "print(start_slice_numbers)\n",
    "print(end_slice_numbers)\n",
    "print(step_slice_numbers)"
   ]
  },
  {
   "cell_type": "code",
   "execution_count": 12,
   "metadata": {},
   "outputs": [
    {
     "name": "stdout",
     "output_type": "stream",
     "text": [
      "[9, 10]\n",
      "[3, 4]\n",
      "[3, 1]\n"
     ]
    }
   ],
   "source": [
    "numbers = [1, 2, 3, 4, 5, 6, 7, 8, 9, 10]\n",
    "neg_start_slice_numbers = numbers[-2:]\n",
    "neg_end_slice_numbers = numbers[2:-6]\n",
    "neg_step_slice_numbers = numbers[2::-2]\n",
    "print(neg_start_slice_numbers)\n",
    "print(neg_end_slice_numbers)\n",
    "print(neg_step_slice_numbers)"
   ]
  },
  {
   "cell_type": "code",
   "execution_count": 1,
   "metadata": {},
   "outputs": [
    {
     "name": "stdout",
     "output_type": "stream",
     "text": [
      "3.942473382000003\n",
      "19.702223117000003\n",
      "0.29975718500000426\n"
     ]
    }
   ],
   "source": [
    "from timeit import timeit\n",
    "\n",
    "\n",
    "def for_loop_sentence(sentence):\n",
    "    reverse_sentence = ''\n",
    "    for s in sentence:\n",
    "        reverse_sentence = s + reverse_sentence\n",
    "    return reverse_sentence\n",
    "\n",
    "\n",
    "def recursion_sentence(sentence):\n",
    "    if len(sentence) == 0:\n",
    "        return sentence\n",
    "    else:\n",
    "        return recursion_sentence(sentence[1:]) + sentence[0]\n",
    "\n",
    "\n",
    "def slice_sentence(sentence):\n",
    "    return sentence[::-1]\n",
    "\n",
    "\n",
    "print(timeit('for_loop_sentence(\"Peter Piper picked a peck of pickled peppers\")',\n",
    "             setup='from __main__ import for_loop_sentence', number=1_000_000))\n",
    "print(timeit('recursion_sentence(\"Peter Piper picked a peck of pickled peppers\")',\n",
    "             setup='from __main__ import recursion_sentence', number=1_000_000))\n",
    "print(timeit('slice_sentence(\"Peter Piper picked a peck of pickled peppers\")',\n",
    "             setup='from __main__ import slice_sentence', number=1_000_000))"
   ]
  },
  {
   "cell_type": "markdown",
   "metadata": {},
   "source": [
    "### Stack"
   ]
  },
  {
   "cell_type": "code",
   "execution_count": null,
   "metadata": {},
   "outputs": [],
   "source": [
    "class Stack:\n",
    "    def __init__(self):\n",
    "        self.stack = []\n",
    "\n",
    "    def is_empty(self):\n",
    "        pass\n",
    "\n",
    "    def push(self, item):\n",
    "        pass\n",
    "\n",
    "    def pop(self):\n",
    "        pass\n",
    "\n",
    "    def peek(self):\n",
    "        pass\n",
    "\n",
    "\n",
    "def main():\n",
    "    stack = Stack()\n",
    "\n",
    "\n",
    "if __name__ == '__main__':\n",
    "    main()"
   ]
  },
  {
   "cell_type": "code",
   "execution_count": null,
   "metadata": {},
   "outputs": [],
   "source": [
    "def balanced_parentheses(string):\n",
    "    stack = []\n",
    "    opening_parentheses = ['[', '(', '{']\n",
    "    closing_parentheses = [']', ')', '}']\n",
    "\n",
    "    for s in string:\n",
    "        if s in opening_parentheses:\n",
    "            stack.append(s)\n",
    "        elif s in closing_parentheses:\n",
    "            idx = closing_parentheses.index(s)\n",
    "            if len(stack) > 0 and opening_parentheses[idx] == stack[len(stack) - 1]:\n",
    "                stack.pop()\n",
    "            else:\n",
    "                return False\n",
    "    if len(stack) == 0:\n",
    "        return True\n",
    "\n",
    "\n",
    "def main():\n",
    "    print(balanced_parentheses('[[[({})]]][]'))\n",
    "    print(balanced_parentheses('[[[({})]]][}'))\n",
    "\n",
    "\n",
    "if __name__ == '__main__':\n",
    "    main()"
   ]
  },
  {
   "cell_type": "markdown",
   "metadata": {},
   "source": [
    "### Queue"
   ]
  },
  {
   "cell_type": "code",
   "execution_count": null,
   "metadata": {},
   "outputs": [],
   "source": [
    "class Queue:\n",
    "    def __init__(self):\n",
    "        self.queue = []\n",
    "\n",
    "    def is_empty(self):\n",
    "        pass\n",
    "\n",
    "    def enqueue(self, item):\n",
    "        pass\n",
    "\n",
    "    def dequeue(self):\n",
    "        pass\n",
    "\n",
    "    def size(self):\n",
    "        pass\n",
    "\n",
    "\n",
    "def main():\n",
    "    queue = Queue()\n",
    "\n",
    "\n",
    "if __name__ == '__main__':\n",
    "    main()"
   ]
  },
  {
   "cell_type": "code",
   "execution_count": null,
   "metadata": {},
   "outputs": [],
   "source": [
    "def balanced_parentheses(string):\n",
    "    queue = []\n",
    "    opening_parentheses = tuple('[({')\n",
    "    closing_parentheses = tuple('])}')\n",
    "    map_parentheses = dict(zip(opening_parentheses, closing_parentheses))\n",
    "\n",
    "    for s in string:\n",
    "        if s in opening_parentheses:\n",
    "            queue.append(map_parentheses[s])\n",
    "        elif s in closing_parentheses:\n",
    "            if not queue or s != queue.pop():\n",
    "                return False\n",
    "    return True\n",
    "\n",
    "\n",
    "def main():\n",
    "    print(balanced_parentheses('[[[({})]]][]'))\n",
    "    print(balanced_parentheses('[[[({})]]][}'))\n",
    "\n",
    "\n",
    "if __name__ == '__main__':\n",
    "    main()"
   ]
  },
  {
   "cell_type": "markdown",
   "metadata": {},
   "source": [
    "## Comprehensions"
   ]
  },
  {
   "cell_type": "markdown",
   "metadata": {},
   "source": [
    "### List Comprehension"
   ]
  },
  {
   "cell_type": "code",
   "execution_count": null,
   "metadata": {},
   "outputs": [],
   "source": [
    "string = '123 Hi 456'\n",
    "numbers = []\n",
    "for s in string:\n",
    "    if s.isdigit():\n",
    "        numbers.append(int(s))\n",
    "print(numbers)\n",
    "\n",
    "string = '123 Hi 456'\n",
    "numbers = [int(s) for s in string if s.isdigit()]\n",
    "print(numbers)"
   ]
  },
  {
   "cell_type": "markdown",
   "metadata": {},
   "source": [
    "### Set Comprehension"
   ]
  },
  {
   "cell_type": "code",
   "execution_count": null,
   "metadata": {},
   "outputs": [],
   "source": [
    "class Cat:\n",
    "    def __init__(self, breed, is_active):\n",
    "        self.breed = breed\n",
    "        self.is_active = is_active\n",
    "\n",
    "\n",
    "def main():\n",
    "    cats = [\n",
    "        Cat('Birman', True),\n",
    "        Cat('Birman', True),\n",
    "        Cat('Maine Coon', False),\n",
    "        Cat('Persian', False),\n",
    "        Cat('Ragdoll', False),\n",
    "        Cat('Siamese', True)\n",
    "    ]\n",
    "    active_cats = {c.breed for c in cats if c.is_active}\n",
    "    print(active_cats)\n",
    "\n",
    "\n",
    "if __name__ == '__main__':\n",
    "    main()"
   ]
  },
  {
   "cell_type": "markdown",
   "metadata": {},
   "source": [
    "### Dictionary Comprehension"
   ]
  },
  {
   "cell_type": "code",
   "execution_count": null,
   "metadata": {},
   "outputs": [],
   "source": [
    "fruit_cost = {'apple': 0.89, 'banana': 0.75, 'orange': 0.60, 'pineapple': 3.50}\n",
    "double_fruit_cost = {}\n",
    "for (k, v) in fruit_cost.items():\n",
    "    double_fruit_cost[k] = v * 2\n",
    "print(double_fruit_cost)\n",
    "\n",
    "fruit_cost = {'apple': 0.89, 'banana': 0.75, 'orange': 0.60, 'pineapple': 3.50}\n",
    "double_fruit_cost = {k: v * 2 for (k, v) in fruit_cost.items()}\n",
    "print(double_fruit_cost)"
   ]
  }
 ],
 "metadata": {
  "kernelspec": {
   "display_name": "Python 3",
   "language": "python",
   "name": "python3"
  },
  "language_info": {
   "codemirror_mode": {
    "name": "ipython",
    "version": 3
   },
   "file_extension": ".py",
   "mimetype": "text/x-python",
   "name": "python",
   "nbconvert_exporter": "python",
   "pygments_lexer": "ipython3",
   "version": "3.7.5"
  }
 },
 "nbformat": 4,
 "nbformat_minor": 2
}
