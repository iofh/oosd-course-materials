{
 "cells": [
  {
   "cell_type": "code",
   "execution_count": null,
   "metadata": {},
   "outputs": [],
   "source": [
    "%config IPCompleter.greedy=True"
   ]
  },
  {
   "cell_type": "markdown",
   "metadata": {},
   "source": [
    "# State Pattern"
   ]
  },
  {
   "cell_type": "code",
   "execution_count": 52,
   "metadata": {},
   "outputs": [
    {
     "name": "stdout",
     "output_type": "stream",
     "text": [
      "MONDAY\n",
      "tuesday\n",
      "WEDNESDAY\n",
      "thursday\n",
      "FRIDAY\n",
      "saturday\n",
      "SUNDAY\n"
     ]
    }
   ],
   "source": [
    "from abc import ABC, abstractmethod\n",
    "\n",
    "\n",
    "class State(ABC):\n",
    "    @abstractmethod\n",
    "    def write_name(self, state_context, name):\n",
    "        pass\n",
    "\n",
    "\n",
    "class LowercaseState(State):\n",
    "    def write_name(self, state_context, name):\n",
    "        print(name.lower())\n",
    "        state_context.state = UppercaseState()\n",
    "\n",
    "\n",
    "class UppercaseState(State):\n",
    "    def write_name(self, state_context, name):\n",
    "        print(name.upper())\n",
    "        state_context.state = LowercaseState()\n",
    "\n",
    "\n",
    "class StateContext:\n",
    "    def __init__(self):\n",
    "        self.__state = UppercaseState()\n",
    "\n",
    "    @property\n",
    "    def state(self):\n",
    "        return self.__state\n",
    "\n",
    "    @state.setter\n",
    "    def state(self, state):\n",
    "        self.__state = state\n",
    "\n",
    "    def request(self, name):\n",
    "        self.__state.write_name(self, name)\n",
    "\n",
    "\n",
    "def main():\n",
    "    state_context = StateContext()\n",
    "    state_context.request('Monday')\n",
    "    state_context.request('Tuesday')\n",
    "    state_context.request('Wednesday')\n",
    "    state_context.request('Thursday')\n",
    "    state_context.request('Friday')\n",
    "    state_context.request('Saturday')\n",
    "    state_context.request('Sunday')\n",
    "    \n",
    "if __name__ == '__main__':\n",
    "    main()"
   ]
  }
 ],
 "metadata": {
  "kernelspec": {
   "display_name": "Python 3",
   "language": "python",
   "name": "python3"
  },
  "language_info": {
   "codemirror_mode": {
    "name": "ipython",
    "version": 3
   },
   "file_extension": ".py",
   "mimetype": "text/x-python",
   "name": "python",
   "nbconvert_exporter": "python",
   "pygments_lexer": "ipython3",
   "version": "3.7.5"
  }
 },
 "nbformat": 4,
 "nbformat_minor": 2
}
