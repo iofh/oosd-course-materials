{
 "cells": [
  {
   "cell_type": "code",
   "execution_count": null,
   "metadata": {},
   "outputs": [],
   "source": [
    "%config IPCompleter.greedy=True"
   ]
  },
  {
   "cell_type": "markdown",
   "metadata": {},
   "source": [
    "# Template Pattern"
   ]
  },
  {
   "cell_type": "code",
   "execution_count": 11,
   "metadata": {},
   "outputs": [
    {
     "name": "stdout",
     "output_type": "stream",
     "text": [
      "Preparing the pizza\n",
      "Cooking the pizza\n",
      "Eating the pizza\n",
      "Preparing the steak\n",
      "Cooking the steak\n",
      "Eating the steak\n",
      "Cleaning up\n"
     ]
    }
   ],
   "source": [
    "from abc import ABC, abstractmethod\n",
    "\n",
    "\n",
    "class MakeDinner(ABC):\n",
    "    @abstractmethod\n",
    "    def prepare(self):\n",
    "        pass\n",
    "\n",
    "    @abstractmethod\n",
    "    def cook(self):\n",
    "        pass\n",
    "\n",
    "    @abstractmethod\n",
    "    def eat(self):\n",
    "        pass\n",
    "\n",
    "    def cleanup(self):\n",
    "        pass\n",
    "\n",
    "    def process(self):\n",
    "        self.prepare()\n",
    "        self.cook()\n",
    "        self.eat()\n",
    "        self.cleanup()\n",
    "\n",
    "\n",
    "class MakePizza(MakeDinner):\n",
    "    def prepare(self):\n",
    "        print('Preparing the pizza')\n",
    "\n",
    "    def cook(self):\n",
    "        print('Cooking the pizza')\n",
    "\n",
    "    def eat(self):\n",
    "        print('Eating the pizza')\n",
    "\n",
    "\n",
    "class MakeSteak(MakeDinner):\n",
    "    def prepare(self):\n",
    "        print('Preparing the steak')\n",
    "\n",
    "    def cook(self):\n",
    "        print('Cooking the steak')\n",
    "\n",
    "    def eat(self):\n",
    "        print('Eating the steak')\n",
    "\n",
    "    def cleanup(self):\n",
    "        print('Cleaning up')\n",
    "\n",
    "\n",
    "def main():\n",
    "    make_pizza = MakePizza()\n",
    "    make_pizza.process()\n",
    "    make_steak = MakeSteak()\n",
    "    make_steak.process()\n",
    "\n",
    "\n",
    "if __name__ == '__main__':\n",
    "    main()"
   ]
  }
 ],
 "metadata": {
  "kernelspec": {
   "display_name": "Python 3",
   "language": "python",
   "name": "python3"
  },
  "language_info": {
   "codemirror_mode": {
    "name": "ipython",
    "version": 3
   },
   "file_extension": ".py",
   "mimetype": "text/x-python",
   "name": "python",
   "nbconvert_exporter": "python",
   "pygments_lexer": "ipython3",
   "version": "3.7.5"
  }
 },
 "nbformat": 4,
 "nbformat_minor": 2
}
