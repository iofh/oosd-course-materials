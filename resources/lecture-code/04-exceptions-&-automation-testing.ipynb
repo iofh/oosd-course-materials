{
 "cells": [
  {
   "cell_type": "code",
   "execution_count": null,
   "metadata": {},
   "outputs": [],
   "source": [
    "%config IPCompleter.greedy=True"
   ]
  },
  {
   "cell_type": "markdown",
   "metadata": {},
   "source": [
    "# Syntax Errors"
   ]
  },
  {
   "cell_type": "code",
   "execution_count": null,
   "metadata": {},
   "outputs": [],
   "source": [
    "while True print('John Doe')"
   ]
  },
  {
   "cell_type": "markdown",
   "metadata": {},
   "source": [
    "# Exceptions"
   ]
  },
  {
   "cell_type": "markdown",
   "metadata": {},
   "source": [
    "### IndexError"
   ]
  },
  {
   "cell_type": "code",
   "execution_count": null,
   "metadata": {},
   "outputs": [],
   "source": [
    "nums = [1, 2, 3, 4, 5]\n",
    "nums[5]"
   ]
  },
  {
   "cell_type": "markdown",
   "metadata": {},
   "source": [
    "### KeyError"
   ]
  },
  {
   "cell_type": "code",
   "execution_count": null,
   "metadata": {
    "scrolled": true
   },
   "outputs": [],
   "source": [
    "person = { 'first_name': 'John', 'last_name': 'Doe' }\n",
    "person['first']"
   ]
  },
  {
   "cell_type": "markdown",
   "metadata": {},
   "source": [
    "### NameError"
   ]
  },
  {
   "cell_type": "code",
   "execution_count": null,
   "metadata": {},
   "outputs": [],
   "source": [
    "x"
   ]
  },
  {
   "cell_type": "markdown",
   "metadata": {},
   "source": [
    "### TypeError"
   ]
  },
  {
   "cell_type": "code",
   "execution_count": null,
   "metadata": {},
   "outputs": [],
   "source": [
    "'1' + 1"
   ]
  },
  {
   "cell_type": "markdown",
   "metadata": {},
   "source": [
    "### ZeroDivisionError"
   ]
  },
  {
   "cell_type": "code",
   "execution_count": null,
   "metadata": {},
   "outputs": [],
   "source": [
    "10/0"
   ]
  },
  {
   "cell_type": "markdown",
   "metadata": {},
   "source": [
    "### Raising Exceptions"
   ]
  },
  {
   "cell_type": "code",
   "execution_count": 1,
   "metadata": {},
   "outputs": [
    {
     "ename": "NameError",
     "evalue": "",
     "output_type": "error",
     "traceback": [
      "\u001b[0;31m---------------------------------------------------------------------------\u001b[0m",
      "\u001b[0;31mNameError\u001b[0m                                 Traceback (most recent call last)",
      "\u001b[0;32m<ipython-input-1-42b67b2fc75d>\u001b[0m in \u001b[0;36m<module>\u001b[0;34m\u001b[0m\n\u001b[0;32m----> 1\u001b[0;31m \u001b[0;32mraise\u001b[0m \u001b[0mNameError\u001b[0m\u001b[0;34m\u001b[0m\u001b[0;34m\u001b[0m\u001b[0m\n\u001b[0m",
      "\u001b[0;31mNameError\u001b[0m: "
     ]
    }
   ],
   "source": [
    "raise NameError"
   ]
  },
  {
   "cell_type": "markdown",
   "metadata": {},
   "source": [
    "### Try & Except"
   ]
  },
  {
   "cell_type": "code",
   "execution_count": null,
   "metadata": {},
   "outputs": [],
   "source": [
    "while True:\n",
    "    try:\n",
    "        int(input('Please enter a number: '))\n",
    "        break\n",
    "    except ValueError:\n",
    "        print('Oops! That was an invalid number. Please try again...')"
   ]
  },
  {
   "cell_type": "markdown",
   "metadata": {},
   "source": [
    "### Try, Except & Finally"
   ]
  },
  {
   "cell_type": "code",
   "execution_count": null,
   "metadata": {},
   "outputs": [],
   "source": [
    "try:\n",
    "    raise KeyboardInterrupt\n",
    "finally:\n",
    "    print('exit(0)')"
   ]
  },
  {
   "cell_type": "markdown",
   "metadata": {},
   "source": [
    "# Automation Testing"
   ]
  },
  {
   "cell_type": "markdown",
   "metadata": {},
   "source": [
    "### Unit Testing"
   ]
  },
  {
   "cell_type": "code",
   "execution_count": null,
   "metadata": {},
   "outputs": [],
   "source": [
    "from unittest import TestCase, main\n",
    "\n",
    "\n",
    "class Person:\n",
    "    def __init__(self, first_name, last_name, age):\n",
    "        self.first_name = first_name\n",
    "        self.last_name = last_name\n",
    "        self.age = age\n",
    "\n",
    "    def is_legal(self):\n",
    "        return True if self.age >= 18 else False\n",
    "\n",
    "\n",
    "class TestPerson(TestCase):\n",
    "    def setUp(self):\n",
    "        self.person_1 = Person('John', 'Doe', 25)\n",
    "        self.person_2 = Person('Jane', 'Doe', 5)\n",
    "\n",
    "    def test_is_legal(self):\n",
    "        self.assertEqual(True, self.person_1.is_legal())\n",
    "\n",
    "    def test_is_not_legal(self):\n",
    "        self.assertEqual(False, self.person_2.is_legal())\n",
    "\n",
    "    def tearDown(self):\n",
    "        self.person_1 = None\n",
    "        self.person_2 = None\n",
    "\n",
    "\n",
    "if __name__ == '__main__':\n",
    "    main(argv=[''], verbosity=2, exit=False)"
   ]
  },
  {
   "cell_type": "markdown",
   "metadata": {},
   "source": [
    "### Test Suite"
   ]
  },
  {
   "cell_type": "code",
   "execution_count": null,
   "metadata": {},
   "outputs": [],
   "source": [
    "from unittest import TestCase, TestSuite, TextTestRunner, main\n",
    "\n",
    "\n",
    "class Person:\n",
    "    def __init__(self, first_name, last_name, age):\n",
    "        self.first_name = first_name\n",
    "        self.last_name = last_name\n",
    "        self.age = age\n",
    "\n",
    "    def is_legal(self):\n",
    "        return True if self.age >= 18 else False\n",
    "\n",
    "\n",
    "class TestPerson(TestCase):\n",
    "    def setUp(self):\n",
    "        self.person_1 = Person('John', 'Doe', 25)\n",
    "        self.person_2 = Person('Jane', 'Doe', 5)\n",
    "\n",
    "    def test_is_legal(self):\n",
    "        self.assertEqual(True, self.person_1.is_legal())\n",
    "\n",
    "    def test_is_not_legal(self):\n",
    "        self.assertEqual(False, self.person_2.is_legal())\n",
    "\n",
    "    def tearDown(self):\n",
    "        self.person_1 = None\n",
    "        self.person_2 = None\n",
    "\n",
    "\n",
    "def suite():\n",
    "    test_suite = TestSuite()\n",
    "    test_suite.addTest(TestPerson('test_is_legal'))\n",
    "    return test_suite\n",
    "\n",
    "\n",
    "if __name__ == '__main__':\n",
    "    runner = TextTestRunner(stream=None, descriptions=True, verbosity=2)\n",
    "    runner.run(suite())"
   ]
  },
  {
   "cell_type": "markdown",
   "metadata": {},
   "source": [
    "### Integration Testing"
   ]
  },
  {
   "cell_type": "code",
   "execution_count": 4,
   "metadata": {},
   "outputs": [
    {
     "name": "stderr",
     "output_type": "stream",
     "text": [
      "test_developer_is_atari (__main__.TestAPI) ... ok\n",
      "test_title_is_donkey_kong (__main__.TestAPI) ... ok\n",
      "test_url_is_ok (__main__.TestAPI) ... ok\n",
      "test_year_release_is_1972 (__main__.TestAPI) ... ok\n",
      "\n",
      "----------------------------------------------------------------------\n",
      "Ran 4 tests in 4.006s\n",
      "\n",
      "OK\n"
     ]
    }
   ],
   "source": [
    "from unittest import TestCase, main\n",
    "from requests import get\n",
    "\n",
    "\n",
    "class TestAPI(TestCase):\n",
    "    def setUp(self):\n",
    "        self.base_url = 'https://oosd-flask-api.herokuapp.com'\n",
    "        self.api_url = '/api/videogames/'\n",
    "\n",
    "    def test_url_is_ok(self):\n",
    "        req = get(self.base_url)\n",
    "        self.assertEqual(req.status_code, 200)\n",
    "\n",
    "    def test_developer_is_atari(self):\n",
    "        req = get(f'{self.base_url}{self.api_url}?id=0')\n",
    "        self.assertEqual(req.json()[0].get('developer'), 'Atari')\n",
    "\n",
    "    def test_title_is_donkey_kong(self):\n",
    "        req = get(f'{self.base_url}{self.api_url}?id=1')\n",
    "        self.assertEqual(req.json()[0].get('title'), 'Donkey Kong')\n",
    "\n",
    "    def test_year_release_is_1972(self):\n",
    "        req = get(f'{self.base_url}{self.api_url}?id=2')\n",
    "        self.assertEqual(req.json()[0].get('year_release'), 1972)\n",
    "\n",
    "    def tearDown(self):\n",
    "        self.base_url = None\n",
    "        self.api_url = None\n",
    "\n",
    "\n",
    "if __name__ == '__main__':\n",
    "    main(argv=[''], verbosity=2, exit=False)"
   ]
  },
  {
   "cell_type": "markdown",
   "metadata": {},
   "source": [
    "### End-To-End Testing"
   ]
  },
  {
   "cell_type": "code",
   "execution_count": null,
   "metadata": {},
   "outputs": [],
   "source": [
    "from unittest import TestCase, main\n",
    "from selenium import webdriver\n",
    "\n",
    "\n",
    "class TestGoogleSearch(TestCase):\n",
    "    def setUp(self):\n",
    "        self.driver = webdriver.Chrome(\n",
    "            '../chromedriver/chromedriver_mac')\n",
    "        self.driver.get('https://google.com/')\n",
    "\n",
    "    def test_search_in_google(self):\n",
    "        self.assertEqual(True, 'Google' in self.driver.title)\n",
    "        search_input = self.driver.find_element_by_xpath(\n",
    "            '//*[@id=\"tsf\"]/div[2]/div[1]/div[1]/div/div[2]/input')\n",
    "        search_input.send_keys('Larry Page')\n",
    "        search_btn = self.driver.find_element_by_xpath(\n",
    "            '//*[@id=\"tsf\"]/div[2]/div[1]/div[3]/center/input[1]')\n",
    "        search_btn.click()\n",
    "        self.assertEqual(\n",
    "            True, 'Larry Page - Wikipedia' in self.driver.page_source)\n",
    "\n",
    "    def tearDown(self):\n",
    "        self.driver.close()\n",
    "\n",
    "\n",
    "if __name__ == '__main__':\n",
    "    main(argv=[''], verbosity=2, exit=False)"
   ]
  }
 ],
 "metadata": {
  "kernelspec": {
   "display_name": "Python 3",
   "language": "python",
   "name": "python3"
  },
  "language_info": {
   "codemirror_mode": {
    "name": "ipython",
    "version": 3
   },
   "file_extension": ".py",
   "mimetype": "text/x-python",
   "name": "python",
   "nbconvert_exporter": "python",
   "pygments_lexer": "ipython3",
   "version": "3.7.5"
  }
 },
 "nbformat": 4,
 "nbformat_minor": 2
}
